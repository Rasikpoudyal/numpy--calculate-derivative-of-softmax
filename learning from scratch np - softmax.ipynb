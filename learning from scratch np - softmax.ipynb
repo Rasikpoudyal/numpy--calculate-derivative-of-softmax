{
 "cells": [
  {
   "cell_type": "code",
   "execution_count": 1,
   "metadata": {
    "collapsed": true
   },
   "outputs": [],
   "source": [
    "import numpy as np"
   ]
  },
  {
   "cell_type": "code",
   "execution_count": 27,
   "metadata": {
    "collapsed": true
   },
   "outputs": [],
   "source": [
    "class Layer:\n",
    "    \"\"\"\n",
    "    Base class for layers in the network.\n",
    "    Arguments:\n",
    "        `inbound_layers`: A list of layers with edges into this layer.\n",
    "    \"\"\"\n",
    "    def __init__(self, input_layer=None):\n",
    "        \"\"\" Simple constructor \"\"\"\n",
    "        self.input_layer = input_layer\n",
    "        self.outbound_layers = []\n",
    "        \n",
    "        if self.input_layer:\n",
    "            self.input_layer.outbound_layers.append(self)\n",
    "\n",
    "    def forward():\n",
    "        \"\"\"\n",
    "        Every layer that uses this class as a base class will\n",
    "        need to define its own `forward` method.\n",
    "        \"\"\"\n",
    "        raise NotImplementedError\n",
    "\n",
    "    def backward():\n",
    "        \"\"\"\n",
    "        Every layer that uses this class as a base class will\n",
    "        need to define its own `backward` method.\n",
    "        \"\"\"\n",
    "        raise NotImplementedError\n"
   ]
  },
  {
   "cell_type": "code",
   "execution_count": 28,
   "metadata": {
    "collapsed": true
   },
   "outputs": [],
   "source": [
    "\"\"\"Add your hidden layer here \"\"\"\n",
    "class Input(Layer):\n",
    "    \"\"\" Represets all the Hidden Layers \"\"\"\n",
    "    def __init__(self, weights, bias):\n",
    "        Layer.__init__(self)\n",
    "        self.X = None\n",
    "        self.W = weights\n",
    "        self.biases = bias\n",
    "\n",
    "        self.num_neurons = self.W.shape[-1]\n",
    "        self.num_images = self.W.shape[0]\n",
    "        self.num_features = self.W.shape[1]\n",
    "\n",
    "        self.W_gradients = np.empty((self.num_images, self.num_features))\n",
    "        self.b_gradients = np.empty((self.num_images,))\n",
    "        self.gradients = np.empty((self.num_images, self.num_features))\n",
    "\n",
    "        self.value = np.empty((self.num_images, self.num_neurons))\n",
    "\n",
    "    def _set(self, images):\n",
    "        self.X = images\n",
    "        \n",
    "    def forward(self):\n",
    "        \"\"\"Layer: Input.  execute W * X + b for the entire batch\"\"\"\n",
    "        for i in range(self.num_images):\n",
    "            h = np.dot(self.X[i], self.W[i])\n",
    "            self.value[i] = h + self.biases[i]\n",
    "\n",
    "    def backward(self):\n",
    "        \"\"\" Gradient: Input Layer\"\"\"\n",
    "        self.input_gradients = self.outbound_layers[0].gradients\n",
    "        for i in range(self.num_images):\n",
    "            self.W_gradients[i] = np.dot(self.W[i], self.input_gradients[i])\n",
    "            self.b_gradients[i] = np.dot(self.input_gradients[i], self.biases[i])\n",
    "\n",
    "            self.gradients[i] = self.W_gradients[i] * self.b_gradients[i]\n"
   ]
  },
  {
   "cell_type": "code",
   "execution_count": 29,
   "metadata": {},
   "outputs": [],
   "source": [
    "class Softmax(Layer):\n",
    "\n",
    "    \n",
    "    def __init__(self, input_layer):\n",
    "        Layer.__init__(self, input_layer)\n",
    "\n",
    "        self.num_classes = self.input_layer.num_classes\n",
    "        self.num_images = self.input_layer.num_images\n",
    "\n",
    "        self.value = np.empty((self.num_images, self.num_classes))\n",
    "        self.gradients = np.empty((self.num_images, self.num_classes))\n",
    "\n",
    "    def _softmax(self, x):\n",
    "        \"\"\"\n",
    "        Calculate Sigmoid\n",
    "        `x`: A numpy array-like object.\n",
    "        \"\"\"\n",
    "        return np.exp(x) / np.sum(np.exp(x), axis=0)\n",
    "\n",
    "    def forward(self):\n",
    "        \"\"\" Perform the sigmoid function and set the value. \"\"\"\n",
    "        input_value = self.input_layer.value\n",
    "        for i in range(self.num_images):\n",
    "            self.value[i] = self._softmax(input_value[i])\n",
    "\n",
    "\n",
    "    def backward(self):\n",
    "        \"\"\"\n",
    "        Calculates the gradient using the derivative of\n",
    " the softmax function.\n",
    "        \"\"\"\n",
    "        for i in range(self.num_images):\n",
    "            self.gradients[i] = self.value[i].T"
   ]
  },
  {
   "cell_type": "code",
   "execution_count": null,
   "metadata": {
    "collapsed": true
   },
   "outputs": [],
   "source": []
  },
  {
   "cell_type": "code",
   "execution_count": null,
   "metadata": {
    "collapsed": true
   },
   "outputs": [],
   "source": []
  }
 ],
 "metadata": {
  "kernelspec": {
   "display_name": "Python 3",
   "language": "python",
   "name": "python3"
  },
  "language_info": {
   "codemirror_mode": {
    "name": "ipython",
    "version": 3
   },
   "file_extension": ".py",
   "mimetype": "text/x-python",
   "name": "python",
   "nbconvert_exporter": "python",
   "pygments_lexer": "ipython3",
   "version": "3.6.3"
  }
 },
 "nbformat": 4,
 "nbformat_minor": 2
}
